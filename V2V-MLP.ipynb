{
 "cells": [
  {
   "cell_type": "code",
   "execution_count": 1,
   "id": "22b43cf4",
   "metadata": {},
   "outputs": [],
   "source": [
    "import matplotlib.pyplot as plt\n",
    "from matplotlib.pyplot import figure\n",
    "import pandas as pd\n",
    "import numpy as np\n",
    "import statsmodels.api as sm\n",
    "import statsmodels.formula.api as smf\n",
    "import seaborn as sns\n",
    "from sklearn.preprocessing import scale\n",
    "from sklearn.model_selection import train_test_split, GridSearchCV, cross_val_score\n",
    "from sklearn.metrics import confusion_matrix, accuracy_score, classification_report, mean_absolute_percentage_error, mean_squared_error, r2_score\n",
    "from sklearn.metrics import roc_auc_score, roc_curve\n",
    "import matplotlib.pyplot as plt\n",
    "from sklearn.neighbors import KNeighborsClassifier, KNeighborsRegressor\n",
    "from sklearn.discriminant_analysis import LinearDiscriminantAnalysis\n",
    "from sklearn.linear_model import LogisticRegression\n",
    "from sklearn.tree import DecisionTreeClassifier, DecisionTreeRegressor\n",
    "from sklearn.svm import SVC\n",
    "from sklearn.naive_bayes import GaussianNB\n",
    "from sklearn import tree\n",
    "from sklearn.ensemble import RandomForestClassifier, RandomForestRegressor\n",
    "from sklearn.ensemble import GradientBoostingClassifier, GradientBoostingRegressor\n",
    "from xgboost import XGBClassifier,XGBRegressor\n",
    "from catboost import CatBoostClassifier, CatBoostRegressor\n",
    "from lightgbm import LGBMClassifier, LGBMRegressor\n",
    "from sklearn.neural_network import MLPRegressor\n",
    "\n",
    "import warnings\n",
    "warnings.filterwarnings(\"ignore\")"
   ]
  },
  {
   "cell_type": "code",
   "execution_count": 2,
   "id": "0c0a3c46",
   "metadata": {},
   "outputs": [],
   "source": [
    "dist = pd.read_excel(\"piksel_matris8.xlsx\")\n",
    "df=dist.copy()\n",
    "df=df.iloc[:,1:len(df)]\n",
    "y=df[\"Sonuç\"]\n",
    "x=df.drop(\"Sonuç\",axis=1)\n",
    "x_scaled=x/4343.5\n",
    "x_train_scaled=x_scaled[0:352] #to be used in...\n",
    "x_test_scaled=x_scaled[352:]\n",
    "y_train=y[0:352] #to be used in...\n",
    "y_test=y[352:]"
   ]
  },
  {
   "cell_type": "code",
   "execution_count": 3,
   "id": "219164ab",
   "metadata": {},
   "outputs": [],
   "source": [
    "#MLPRegressor?"
   ]
  },
  {
   "cell_type": "code",
   "execution_count": 4,
   "id": "f9bc2a19",
   "metadata": {},
   "outputs": [
    {
     "data": {
      "text/plain": [
       "2.0949685637973396"
      ]
     },
     "execution_count": 4,
     "metadata": {},
     "output_type": "execute_result"
    }
   ],
   "source": [
    "mlp_model = MLPRegressor(hidden_layer_sizes = (150), solver=\"lbfgs\", momentum=0.6, max_iter=1029, learning_rate='constant', learning_rate_init=0.8, activation=\"tanh\", random_state=125)\n",
    "mlp_model.fit(x_train_scaled,y_train)\n",
    "mlp_pred = mlp_model.predict(x_test_scaled)\n",
    "mape_deger=mean_absolute_percentage_error(y_test,mlp_pred)\n",
    "mape_deger*100"
   ]
  },
  {
   "cell_type": "code",
   "execution_count": null,
   "id": "d65807df",
   "metadata": {},
   "outputs": [],
   "source": []
  }
 ],
 "metadata": {
  "kernelspec": {
   "display_name": "Python 3 (ipykernel)",
   "language": "python",
   "name": "python3"
  },
  "language_info": {
   "codemirror_mode": {
    "name": "ipython",
    "version": 3
   },
   "file_extension": ".py",
   "mimetype": "text/x-python",
   "name": "python",
   "nbconvert_exporter": "python",
   "pygments_lexer": "ipython3",
   "version": "3.9.7"
  }
 },
 "nbformat": 4,
 "nbformat_minor": 5
}
