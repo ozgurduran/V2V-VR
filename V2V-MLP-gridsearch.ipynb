{
 "cells": [
  {
   "cell_type": "code",
   "execution_count": 13,
   "id": "22b43cf4",
   "metadata": {},
   "outputs": [],
   "source": [
    "import matplotlib.pyplot as plt\n",
    "from matplotlib.pyplot import figure\n",
    "import pandas as pd\n",
    "import numpy as np\n",
    "import statsmodels.api as sm\n",
    "import statsmodels.formula.api as smf\n",
    "import seaborn as sns\n",
    "from sklearn.preprocessing import scale\n",
    "from sklearn.model_selection import train_test_split, GridSearchCV, cross_val_score\n",
    "from sklearn.metrics import confusion_matrix, accuracy_score, classification_report, mean_absolute_percentage_error, mean_squared_error, r2_score\n",
    "from sklearn.metrics import roc_auc_score, roc_curve\n",
    "import matplotlib.pyplot as plt\n",
    "from sklearn.neighbors import KNeighborsClassifier, KNeighborsRegressor\n",
    "from sklearn.discriminant_analysis import LinearDiscriminantAnalysis\n",
    "from sklearn.linear_model import LogisticRegression\n",
    "from sklearn.tree import DecisionTreeClassifier, DecisionTreeRegressor\n",
    "from sklearn.svm import SVC\n",
    "from sklearn.naive_bayes import GaussianNB\n",
    "from sklearn import tree\n",
    "from sklearn.ensemble import RandomForestClassifier, RandomForestRegressor\n",
    "from sklearn.ensemble import GradientBoostingClassifier, GradientBoostingRegressor\n",
    "from xgboost import XGBClassifier,XGBRegressor\n",
    "from catboost import CatBoostClassifier, CatBoostRegressor\n",
    "from lightgbm import LGBMClassifier, LGBMRegressor\n",
    "from sklearn.neural_network import MLPRegressor\n",
    "\n",
    "import warnings\n",
    "warnings.filterwarnings(\"ignore\")"
   ]
  },
  {
   "cell_type": "code",
   "execution_count": 14,
   "id": "0c0a3c46",
   "metadata": {},
   "outputs": [],
   "source": [
    "dist = pd.read_excel(\"piksel_matris8.xlsx\")\n",
    "df=dist.copy()\n",
    "df=df.iloc[:,1:len(df)]\n",
    "y=df[\"Sonuç\"]\n",
    "x=df.drop(\"Sonuç\",axis=1)\n",
    "x_scaled=x/4343.5\n",
    "x_train_scaled=x_scaled[0:352] #to be used in...\n",
    "x_test_scaled=x_scaled[352:]\n",
    "y_train=y[0:352] #to be used in...\n",
    "y_test=y[352:]"
   ]
  },
  {
   "cell_type": "code",
   "execution_count": 15,
   "id": "219164ab",
   "metadata": {},
   "outputs": [],
   "source": [
    "#MLPRegressor?"
   ]
  },
  {
   "cell_type": "code",
   "execution_count": 16,
   "id": "f9bc2a19",
   "metadata": {},
   "outputs": [],
   "source": [
    "mlp_model = MLPRegressor()\n",
    "#mlp_model.fit(x_train_scaled,y_train)\n",
    "#mlp_pred = mlp_model.predict(x_test_scaled)\n",
    "#mape_deger=mean_absolute_percentage_error(y_test,mlp_pred)\n",
    "#mape_deger*100"
   ]
  },
  {
   "cell_type": "code",
   "execution_count": 17,
   "id": "d65807df",
   "metadata": {},
   "outputs": [],
   "source": [
    "cart_params={\"hidden_layer_sizes\":[100,200],\"solver\":[\"adam\",\"lbfgs\"],\"momentum\":[0.6,0.9],\"max_iter\":[1000],\"learning_rate_init\":[0.1,0.5],\"activation\":[\"relu\",\"tanh\"],\"random_state\":[100,120]}\n",
    "cart_cv_model=GridSearchCV(mlp_model,cart_params, cv=10)"
   ]
  },
  {
   "cell_type": "code",
   "execution_count": 18,
   "id": "c286bccc",
   "metadata": {},
   "outputs": [
    {
     "data": {
      "text/plain": [
       "GridSearchCV(cv=10, estimator=MLPRegressor(),\n",
       "             param_grid={'activation': ['relu', 'tanh'],\n",
       "                         'hidden_layer_sizes': [100, 200],\n",
       "                         'learning_rate_init': [0.1, 0.5], 'max_iter': [1000],\n",
       "                         'momentum': [0.6, 0.9], 'random_state': [100, 120],\n",
       "                         'solver': ['adam', 'lbfgs']})"
      ]
     },
     "execution_count": 18,
     "metadata": {},
     "output_type": "execute_result"
    }
   ],
   "source": [
    "cart_cv_model.fit(x_train_scaled,y_train)"
   ]
  },
  {
   "cell_type": "code",
   "execution_count": 19,
   "id": "d3ce7233",
   "metadata": {},
   "outputs": [
    {
     "data": {
      "text/plain": [
       "{'activation': 'relu',\n",
       " 'hidden_layer_sizes': 100,\n",
       " 'learning_rate_init': 0.1,\n",
       " 'max_iter': 1000,\n",
       " 'momentum': 0.6,\n",
       " 'random_state': 120,\n",
       " 'solver': 'lbfgs'}"
      ]
     },
     "execution_count": 19,
     "metadata": {},
     "output_type": "execute_result"
    }
   ],
   "source": [
    "cart_cv_model.best_params_"
   ]
  },
  {
   "cell_type": "code",
   "execution_count": 20,
   "id": "6428dc06",
   "metadata": {},
   "outputs": [],
   "source": [
    "y_pred=cart_cv_model.predict(x_test_scaled)"
   ]
  },
  {
   "cell_type": "code",
   "execution_count": 21,
   "id": "d17124d7",
   "metadata": {},
   "outputs": [],
   "source": [
    "mape_deger=mean_absolute_percentage_error(y_test,y_pred)"
   ]
  },
  {
   "cell_type": "code",
   "execution_count": 22,
   "id": "0019537c",
   "metadata": {},
   "outputs": [
    {
     "data": {
      "text/plain": [
       "2.7021384497086345"
      ]
     },
     "execution_count": 22,
     "metadata": {},
     "output_type": "execute_result"
    }
   ],
   "source": [
    "mape_deger*100"
   ]
  },
  {
   "cell_type": "code",
   "execution_count": 23,
   "id": "a2267588",
   "metadata": {},
   "outputs": [],
   "source": [
    "plt.style.use(\"seaborn-bright\")"
   ]
  },
  {
   "cell_type": "code",
   "execution_count": 24,
   "id": "afcf75d2",
   "metadata": {},
   "outputs": [
    {
     "data": {
      "image/png": "[encoded data removed]",
      "text/plain": [
       "<Figure size 432x432 with 3 Axes>"
      ]
     },
     "metadata": {
      "needs_background": "light"
     },
     "output_type": "display_data"
    }
   ],
   "source": [
    "sns.jointplot(y_test, y_pred, kind=\"reg\")\n",
    "plt.show()"
   ]
  }
 ],
 "metadata": {
  "kernelspec": {
   "display_name": "Python 3 (ipykernel)",
   "language": "python",
   "name": "python3"
  },
  "language_info": {
   "codemirror_mode": {
    "name": "ipython",
    "version": 3
   },
   "file_extension": ".py",
   "mimetype": "text/x-python",
   "name": "python",
   "nbconvert_exporter": "python",
   "pygments_lexer": "ipython3",
   "version": "3.9.7"
  }
 },
 "nbformat": 4,
 "nbformat_minor": 5
}
