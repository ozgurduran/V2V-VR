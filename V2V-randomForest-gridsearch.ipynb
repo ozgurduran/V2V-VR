{
 "cells": [
  {
   "cell_type": "code",
   "execution_count": 38,
   "id": "658b3e83",
   "metadata": {},
   "outputs": [],
   "source": [
    "#KÜTÜPHANELER\n",
    "import pandas as pd\n",
    "import numpy as np\n",
    "import statsmodels.api as sm\n",
    "import statsmodels.formula.api as smf\n",
    "import seaborn as sns\n",
    "from sklearn.preprocessing import scale\n",
    "from sklearn.model_selection import train_test_split, GridSearchCV, cross_val_score\n",
    "from sklearn.metrics import confusion_matrix, accuracy_score, classification_report, mean_absolute_percentage_error, mean_squared_error, r2_score\n",
    "from sklearn.metrics import roc_auc_score, roc_curve\n",
    "import matplotlib.pyplot as plt\n",
    "from sklearn.neighbors import KNeighborsClassifier, KNeighborsRegressor\n",
    "from sklearn.discriminant_analysis import LinearDiscriminantAnalysis\n",
    "from sklearn.linear_model import LogisticRegression\n",
    "from sklearn.tree import DecisionTreeClassifier, DecisionTreeRegressor\n",
    "from sklearn.svm import SVC\n",
    "from sklearn.naive_bayes import GaussianNB\n",
    "from sklearn import tree\n",
    "from sklearn.ensemble import RandomForestClassifier, RandomForestRegressor\n",
    "from sklearn.ensemble import GradientBoostingClassifier\n",
    "from xgboost import XGBClassifier,XGBRegressor\n",
    "#from lightgbm import LGBMClassifier\n",
    "#from catboost import CatBoostClassifier\n",
    "\n",
    "import warnings\n",
    "warnings.filterwarnings(\"ignore\")"
   ]
  },
  {
   "cell_type": "code",
   "execution_count": 39,
   "id": "c19b048b",
   "metadata": {},
   "outputs": [],
   "source": [
    "#!pip install xgboost\n",
    "#XGBRegressor?"
   ]
  },
  {
   "cell_type": "code",
   "execution_count": 40,
   "id": "4b451835",
   "metadata": {},
   "outputs": [
    {
     "data": {
      "text/plain": [
       "0"
      ]
     },
     "execution_count": 40,
     "metadata": {},
     "output_type": "execute_result"
    }
   ],
   "source": [
    "dist = pd.read_excel(\"piksel_matris8.xlsx\")\n",
    "dist.head(20)\n",
    "dist.shape\n",
    "pd.isnull(dist[\"Sonuç\"]).sum()"
   ]
  },
  {
   "cell_type": "code",
   "execution_count": 41,
   "id": "744c1323",
   "metadata": {},
   "outputs": [
    {
     "data": {
      "text/plain": [
       "(414, 10)"
      ]
     },
     "execution_count": 41,
     "metadata": {},
     "output_type": "execute_result"
    }
   ],
   "source": [
    "dist.shape"
   ]
  },
  {
   "cell_type": "code",
   "execution_count": 42,
   "id": "c752aff0",
   "metadata": {},
   "outputs": [],
   "source": [
    "df=dist.copy()"
   ]
  },
  {
   "cell_type": "code",
   "execution_count": 43,
   "id": "bf9e718c",
   "metadata": {},
   "outputs": [
    {
     "data": {
      "text/html": [
       "<div>\n",
       "<style scoped>\n",
       "    .dataframe tbody tr th:only-of-type {\n",
       "        vertical-align: middle;\n",
       "    }\n",
       "\n",
       "    .dataframe tbody tr th {\n",
       "        vertical-align: top;\n",
       "    }\n",
       "\n",
       "    .dataframe thead th {\n",
       "        text-align: right;\n",
       "    }\n",
       "</style>\n",
       "<table border=\"1\" class=\"dataframe\">\n",
       "  <thead>\n",
       "    <tr style=\"text-align: right;\">\n",
       "      <th></th>\n",
       "      <th>Unnamed: 0</th>\n",
       "      <th>AX1</th>\n",
       "      <th>AX2</th>\n",
       "      <th>AY1</th>\n",
       "      <th>BX1</th>\n",
       "      <th>BX2</th>\n",
       "      <th>BY1</th>\n",
       "      <th>PX</th>\n",
       "      <th>PY</th>\n",
       "      <th>Sonuç</th>\n",
       "    </tr>\n",
       "  </thead>\n",
       "  <tbody>\n",
       "    <tr>\n",
       "      <th>0</th>\n",
       "      <td>150SOL6,2M</td>\n",
       "      <td>363.5</td>\n",
       "      <td>4244.5</td>\n",
       "      <td>2097.0</td>\n",
       "      <td>2363.0</td>\n",
       "      <td>2245.0</td>\n",
       "      <td>2103.0</td>\n",
       "      <td>1999.5</td>\n",
       "      <td>6.0</td>\n",
       "      <td>6.2</td>\n",
       "    </tr>\n",
       "    <tr>\n",
       "      <th>1</th>\n",
       "      <td>150SOL7,2M</td>\n",
       "      <td>449.0</td>\n",
       "      <td>4159.0</td>\n",
       "      <td>1955.5</td>\n",
       "      <td>2545.5</td>\n",
       "      <td>2062.5</td>\n",
       "      <td>1979.5</td>\n",
       "      <td>2096.5</td>\n",
       "      <td>24.0</td>\n",
       "      <td>7.2</td>\n",
       "    </tr>\n",
       "    <tr>\n",
       "      <th>2</th>\n",
       "      <td>150SOL8,2M</td>\n",
       "      <td>507.5</td>\n",
       "      <td>4100.5</td>\n",
       "      <td>1848.0</td>\n",
       "      <td>2687.5</td>\n",
       "      <td>1920.5</td>\n",
       "      <td>1881.5</td>\n",
       "      <td>2180.0</td>\n",
       "      <td>33.5</td>\n",
       "      <td>8.2</td>\n",
       "    </tr>\n",
       "    <tr>\n",
       "      <th>3</th>\n",
       "      <td>150SOL10,2M</td>\n",
       "      <td>599.0</td>\n",
       "      <td>4009.0</td>\n",
       "      <td>1704.0</td>\n",
       "      <td>2898.0</td>\n",
       "      <td>1710.0</td>\n",
       "      <td>1743.0</td>\n",
       "      <td>2299.0</td>\n",
       "      <td>39.0</td>\n",
       "      <td>10.2</td>\n",
       "    </tr>\n",
       "    <tr>\n",
       "      <th>4</th>\n",
       "      <td>150SOL11,2M</td>\n",
       "      <td>611.5</td>\n",
       "      <td>3996.5</td>\n",
       "      <td>1683.5</td>\n",
       "      <td>2963.5</td>\n",
       "      <td>1644.5</td>\n",
       "      <td>1721.5</td>\n",
       "      <td>2352.0</td>\n",
       "      <td>38.0</td>\n",
       "      <td>11.2</td>\n",
       "    </tr>\n",
       "    <tr>\n",
       "      <th>5</th>\n",
       "      <td>150SOL12,2M</td>\n",
       "      <td>665.0</td>\n",
       "      <td>3943.0</td>\n",
       "      <td>1659.0</td>\n",
       "      <td>3058.0</td>\n",
       "      <td>1550.0</td>\n",
       "      <td>1694.5</td>\n",
       "      <td>2393.0</td>\n",
       "      <td>35.5</td>\n",
       "      <td>12.2</td>\n",
       "    </tr>\n",
       "    <tr>\n",
       "      <th>6</th>\n",
       "      <td>150SOL13,2M</td>\n",
       "      <td>688.0</td>\n",
       "      <td>3920.0</td>\n",
       "      <td>1642.0</td>\n",
       "      <td>3118.5</td>\n",
       "      <td>1489.5</td>\n",
       "      <td>1675.5</td>\n",
       "      <td>2430.5</td>\n",
       "      <td>33.5</td>\n",
       "      <td>13.2</td>\n",
       "    </tr>\n",
       "    <tr>\n",
       "      <th>7</th>\n",
       "      <td>150SOL14,2M</td>\n",
       "      <td>711.5</td>\n",
       "      <td>3896.5</td>\n",
       "      <td>1596.0</td>\n",
       "      <td>3175.5</td>\n",
       "      <td>1432.5</td>\n",
       "      <td>1632.0</td>\n",
       "      <td>2464.0</td>\n",
       "      <td>36.0</td>\n",
       "      <td>14.2</td>\n",
       "    </tr>\n",
       "    <tr>\n",
       "      <th>8</th>\n",
       "      <td>150SOL15,2M</td>\n",
       "      <td>722.0</td>\n",
       "      <td>3886.0</td>\n",
       "      <td>1532.0</td>\n",
       "      <td>3213.0</td>\n",
       "      <td>1395.0</td>\n",
       "      <td>1569.5</td>\n",
       "      <td>2491.0</td>\n",
       "      <td>37.5</td>\n",
       "      <td>15.2</td>\n",
       "    </tr>\n",
       "    <tr>\n",
       "      <th>9</th>\n",
       "      <td>150SOL17,2M</td>\n",
       "      <td>763.0</td>\n",
       "      <td>3845.0</td>\n",
       "      <td>1534.0</td>\n",
       "      <td>3287.0</td>\n",
       "      <td>1321.0</td>\n",
       "      <td>1569.5</td>\n",
       "      <td>2524.0</td>\n",
       "      <td>35.5</td>\n",
       "      <td>17.2</td>\n",
       "    </tr>\n",
       "  </tbody>\n",
       "</table>\n",
       "</div>"
      ],
      "text/plain": [
       "    Unnamed: 0    AX1     AX2     AY1     BX1     BX2     BY1      PX    PY  \\\n",
       "0   150SOL6,2M  363.5  4244.5  2097.0  2363.0  2245.0  2103.0  1999.5   6.0   \n",
       "1   150SOL7,2M  449.0  4159.0  1955.5  2545.5  2062.5  1979.5  2096.5  24.0   \n",
       "2   150SOL8,2M  507.5  4100.5  1848.0  2687.5  1920.5  1881.5  2180.0  33.5   \n",
       "3  150SOL10,2M  599.0  4009.0  1704.0  2898.0  1710.0  1743.0  2299.0  39.0   \n",
       "4  150SOL11,2M  611.5  3996.5  1683.5  2963.5  1644.5  1721.5  2352.0  38.0   \n",
       "5  150SOL12,2M  665.0  3943.0  1659.0  3058.0  1550.0  1694.5  2393.0  35.5   \n",
       "6  150SOL13,2M  688.0  3920.0  1642.0  3118.5  1489.5  1675.5  2430.5  33.5   \n",
       "7  150SOL14,2M  711.5  3896.5  1596.0  3175.5  1432.5  1632.0  2464.0  36.0   \n",
       "8  150SOL15,2M  722.0  3886.0  1532.0  3213.0  1395.0  1569.5  2491.0  37.5   \n",
       "9  150SOL17,2M  763.0  3845.0  1534.0  3287.0  1321.0  1569.5  2524.0  35.5   \n",
       "\n",
       "   Sonuç  \n",
       "0    6.2  \n",
       "1    7.2  \n",
       "2    8.2  \n",
       "3   10.2  \n",
       "4   11.2  \n",
       "5   12.2  \n",
       "6   13.2  \n",
       "7   14.2  \n",
       "8   15.2  \n",
       "9   17.2  "
      ]
     },
     "execution_count": 43,
     "metadata": {},
     "output_type": "execute_result"
    }
   ],
   "source": [
    "df.head(10)"
   ]
  },
  {
   "cell_type": "code",
   "execution_count": 44,
   "id": "1dc288b3",
   "metadata": {},
   "outputs": [],
   "source": [
    "df=df.iloc[:,1:len(df)]"
   ]
  },
  {
   "cell_type": "code",
   "execution_count": 45,
   "id": "3e05d780",
   "metadata": {},
   "outputs": [
    {
     "data": {
      "text/html": [
       "<div>\n",
       "<style scoped>\n",
       "    .dataframe tbody tr th:only-of-type {\n",
       "        vertical-align: middle;\n",
       "    }\n",
       "\n",
       "    .dataframe tbody tr th {\n",
       "        vertical-align: top;\n",
       "    }\n",
       "\n",
       "    .dataframe thead th {\n",
       "        text-align: right;\n",
       "    }\n",
       "</style>\n",
       "<table border=\"1\" class=\"dataframe\">\n",
       "  <thead>\n",
       "    <tr style=\"text-align: right;\">\n",
       "      <th></th>\n",
       "      <th>AX1</th>\n",
       "      <th>AX2</th>\n",
       "      <th>AY1</th>\n",
       "      <th>BX1</th>\n",
       "      <th>BX2</th>\n",
       "      <th>BY1</th>\n",
       "      <th>PX</th>\n",
       "      <th>PY</th>\n",
       "      <th>Sonuç</th>\n",
       "    </tr>\n",
       "  </thead>\n",
       "  <tbody>\n",
       "    <tr>\n",
       "      <th>0</th>\n",
       "      <td>363.5</td>\n",
       "      <td>4244.5</td>\n",
       "      <td>2097.0</td>\n",
       "      <td>2363.0</td>\n",
       "      <td>2245.0</td>\n",
       "      <td>2103.0</td>\n",
       "      <td>1999.5</td>\n",
       "      <td>6.0</td>\n",
       "      <td>6.2</td>\n",
       "    </tr>\n",
       "    <tr>\n",
       "      <th>1</th>\n",
       "      <td>449.0</td>\n",
       "      <td>4159.0</td>\n",
       "      <td>1955.5</td>\n",
       "      <td>2545.5</td>\n",
       "      <td>2062.5</td>\n",
       "      <td>1979.5</td>\n",
       "      <td>2096.5</td>\n",
       "      <td>24.0</td>\n",
       "      <td>7.2</td>\n",
       "    </tr>\n",
       "    <tr>\n",
       "      <th>2</th>\n",
       "      <td>507.5</td>\n",
       "      <td>4100.5</td>\n",
       "      <td>1848.0</td>\n",
       "      <td>2687.5</td>\n",
       "      <td>1920.5</td>\n",
       "      <td>1881.5</td>\n",
       "      <td>2180.0</td>\n",
       "      <td>33.5</td>\n",
       "      <td>8.2</td>\n",
       "    </tr>\n",
       "    <tr>\n",
       "      <th>3</th>\n",
       "      <td>599.0</td>\n",
       "      <td>4009.0</td>\n",
       "      <td>1704.0</td>\n",
       "      <td>2898.0</td>\n",
       "      <td>1710.0</td>\n",
       "      <td>1743.0</td>\n",
       "      <td>2299.0</td>\n",
       "      <td>39.0</td>\n",
       "      <td>10.2</td>\n",
       "    </tr>\n",
       "    <tr>\n",
       "      <th>4</th>\n",
       "      <td>611.5</td>\n",
       "      <td>3996.5</td>\n",
       "      <td>1683.5</td>\n",
       "      <td>2963.5</td>\n",
       "      <td>1644.5</td>\n",
       "      <td>1721.5</td>\n",
       "      <td>2352.0</td>\n",
       "      <td>38.0</td>\n",
       "      <td>11.2</td>\n",
       "    </tr>\n",
       "  </tbody>\n",
       "</table>\n",
       "</div>"
      ],
      "text/plain": [
       "     AX1     AX2     AY1     BX1     BX2     BY1      PX    PY  Sonuç\n",
       "0  363.5  4244.5  2097.0  2363.0  2245.0  2103.0  1999.5   6.0    6.2\n",
       "1  449.0  4159.0  1955.5  2545.5  2062.5  1979.5  2096.5  24.0    7.2\n",
       "2  507.5  4100.5  1848.0  2687.5  1920.5  1881.5  2180.0  33.5    8.2\n",
       "3  599.0  4009.0  1704.0  2898.0  1710.0  1743.0  2299.0  39.0   10.2\n",
       "4  611.5  3996.5  1683.5  2963.5  1644.5  1721.5  2352.0  38.0   11.2"
      ]
     },
     "execution_count": 45,
     "metadata": {},
     "output_type": "execute_result"
    }
   ],
   "source": [
    "df.head()"
   ]
  },
  {
   "cell_type": "code",
   "execution_count": 46,
   "id": "73672804",
   "metadata": {},
   "outputs": [
    {
     "data": {
      "text/plain": [
       "(414, 9)"
      ]
     },
     "execution_count": 46,
     "metadata": {},
     "output_type": "execute_result"
    }
   ],
   "source": [
    "df.shape"
   ]
  },
  {
   "cell_type": "code",
   "execution_count": 47,
   "id": "34ecbf3c",
   "metadata": {},
   "outputs": [],
   "source": [
    "y=df[\"Sonuç\"]\n",
    "x=df.drop(\"Sonuç\",axis=1)"
   ]
  },
  {
   "cell_type": "code",
   "execution_count": 48,
   "id": "6ee5874c",
   "metadata": {},
   "outputs": [
    {
     "data": {
      "text/html": [
       "<div>\n",
       "<style scoped>\n",
       "    .dataframe tbody tr th:only-of-type {\n",
       "        vertical-align: middle;\n",
       "    }\n",
       "\n",
       "    .dataframe tbody tr th {\n",
       "        vertical-align: top;\n",
       "    }\n",
       "\n",
       "    .dataframe thead th {\n",
       "        text-align: right;\n",
       "    }\n",
       "</style>\n",
       "<table border=\"1\" class=\"dataframe\">\n",
       "  <thead>\n",
       "    <tr style=\"text-align: right;\">\n",
       "      <th></th>\n",
       "      <th>AX1</th>\n",
       "      <th>AX2</th>\n",
       "      <th>AY1</th>\n",
       "      <th>BX1</th>\n",
       "      <th>BX2</th>\n",
       "      <th>BY1</th>\n",
       "      <th>PX</th>\n",
       "      <th>PY</th>\n",
       "    </tr>\n",
       "  </thead>\n",
       "  <tbody>\n",
       "    <tr>\n",
       "      <th>0</th>\n",
       "      <td>363.5</td>\n",
       "      <td>4244.5</td>\n",
       "      <td>2097.0</td>\n",
       "      <td>2363.0</td>\n",
       "      <td>2245.0</td>\n",
       "      <td>2103.0</td>\n",
       "      <td>1999.5</td>\n",
       "      <td>6.0</td>\n",
       "    </tr>\n",
       "    <tr>\n",
       "      <th>1</th>\n",
       "      <td>449.0</td>\n",
       "      <td>4159.0</td>\n",
       "      <td>1955.5</td>\n",
       "      <td>2545.5</td>\n",
       "      <td>2062.5</td>\n",
       "      <td>1979.5</td>\n",
       "      <td>2096.5</td>\n",
       "      <td>24.0</td>\n",
       "    </tr>\n",
       "    <tr>\n",
       "      <th>2</th>\n",
       "      <td>507.5</td>\n",
       "      <td>4100.5</td>\n",
       "      <td>1848.0</td>\n",
       "      <td>2687.5</td>\n",
       "      <td>1920.5</td>\n",
       "      <td>1881.5</td>\n",
       "      <td>2180.0</td>\n",
       "      <td>33.5</td>\n",
       "    </tr>\n",
       "    <tr>\n",
       "      <th>3</th>\n",
       "      <td>599.0</td>\n",
       "      <td>4009.0</td>\n",
       "      <td>1704.0</td>\n",
       "      <td>2898.0</td>\n",
       "      <td>1710.0</td>\n",
       "      <td>1743.0</td>\n",
       "      <td>2299.0</td>\n",
       "      <td>39.0</td>\n",
       "    </tr>\n",
       "    <tr>\n",
       "      <th>4</th>\n",
       "      <td>611.5</td>\n",
       "      <td>3996.5</td>\n",
       "      <td>1683.5</td>\n",
       "      <td>2963.5</td>\n",
       "      <td>1644.5</td>\n",
       "      <td>1721.5</td>\n",
       "      <td>2352.0</td>\n",
       "      <td>38.0</td>\n",
       "    </tr>\n",
       "  </tbody>\n",
       "</table>\n",
       "</div>"
      ],
      "text/plain": [
       "     AX1     AX2     AY1     BX1     BX2     BY1      PX    PY\n",
       "0  363.5  4244.5  2097.0  2363.0  2245.0  2103.0  1999.5   6.0\n",
       "1  449.0  4159.0  1955.5  2545.5  2062.5  1979.5  2096.5  24.0\n",
       "2  507.5  4100.5  1848.0  2687.5  1920.5  1881.5  2180.0  33.5\n",
       "3  599.0  4009.0  1704.0  2898.0  1710.0  1743.0  2299.0  39.0\n",
       "4  611.5  3996.5  1683.5  2963.5  1644.5  1721.5  2352.0  38.0"
      ]
     },
     "execution_count": 48,
     "metadata": {},
     "output_type": "execute_result"
    }
   ],
   "source": [
    "x.head()"
   ]
  },
  {
   "cell_type": "code",
   "execution_count": 49,
   "id": "44728d68",
   "metadata": {},
   "outputs": [
    {
     "data": {
      "text/plain": [
       "0     6.2\n",
       "1     7.2\n",
       "2     8.2\n",
       "3    10.2\n",
       "4    11.2\n",
       "Name: Sonuç, dtype: float64"
      ]
     },
     "execution_count": 49,
     "metadata": {},
     "output_type": "execute_result"
    }
   ],
   "source": [
    "y.head()"
   ]
  },
  {
   "cell_type": "code",
   "execution_count": 50,
   "id": "76a4980f",
   "metadata": {},
   "outputs": [
    {
     "data": {
      "text/plain": [
       "0       6.2\n",
       "1       7.2\n",
       "2       8.2\n",
       "3      10.2\n",
       "4      11.2\n",
       "       ... \n",
       "409    34.2\n",
       "410    41.2\n",
       "411    48.2\n",
       "412    55.2\n",
       "413    62.2\n",
       "Name: Sonuç, Length: 414, dtype: float64"
      ]
     },
     "execution_count": 50,
     "metadata": {},
     "output_type": "execute_result"
    }
   ],
   "source": [
    "y"
   ]
  },
  {
   "cell_type": "code",
   "execution_count": 51,
   "id": "e483dbf3",
   "metadata": {},
   "outputs": [
    {
     "data": {
      "text/html": [
       "<div>\n",
       "<style scoped>\n",
       "    .dataframe tbody tr th:only-of-type {\n",
       "        vertical-align: middle;\n",
       "    }\n",
       "\n",
       "    .dataframe tbody tr th {\n",
       "        vertical-align: top;\n",
       "    }\n",
       "\n",
       "    .dataframe thead th {\n",
       "        text-align: right;\n",
       "    }\n",
       "</style>\n",
       "<table border=\"1\" class=\"dataframe\">\n",
       "  <thead>\n",
       "    <tr style=\"text-align: right;\">\n",
       "      <th></th>\n",
       "      <th>AX1</th>\n",
       "      <th>AX2</th>\n",
       "      <th>AY1</th>\n",
       "      <th>BX1</th>\n",
       "      <th>BX2</th>\n",
       "      <th>BY1</th>\n",
       "      <th>PX</th>\n",
       "      <th>PY</th>\n",
       "    </tr>\n",
       "  </thead>\n",
       "  <tbody>\n",
       "    <tr>\n",
       "      <th>0</th>\n",
       "      <td>363.5</td>\n",
       "      <td>4244.5</td>\n",
       "      <td>2097.0</td>\n",
       "      <td>2363.0</td>\n",
       "      <td>2245.0</td>\n",
       "      <td>2103.0</td>\n",
       "      <td>1999.5</td>\n",
       "      <td>6.0</td>\n",
       "    </tr>\n",
       "    <tr>\n",
       "      <th>1</th>\n",
       "      <td>449.0</td>\n",
       "      <td>4159.0</td>\n",
       "      <td>1955.5</td>\n",
       "      <td>2545.5</td>\n",
       "      <td>2062.5</td>\n",
       "      <td>1979.5</td>\n",
       "      <td>2096.5</td>\n",
       "      <td>24.0</td>\n",
       "    </tr>\n",
       "    <tr>\n",
       "      <th>2</th>\n",
       "      <td>507.5</td>\n",
       "      <td>4100.5</td>\n",
       "      <td>1848.0</td>\n",
       "      <td>2687.5</td>\n",
       "      <td>1920.5</td>\n",
       "      <td>1881.5</td>\n",
       "      <td>2180.0</td>\n",
       "      <td>33.5</td>\n",
       "    </tr>\n",
       "    <tr>\n",
       "      <th>3</th>\n",
       "      <td>599.0</td>\n",
       "      <td>4009.0</td>\n",
       "      <td>1704.0</td>\n",
       "      <td>2898.0</td>\n",
       "      <td>1710.0</td>\n",
       "      <td>1743.0</td>\n",
       "      <td>2299.0</td>\n",
       "      <td>39.0</td>\n",
       "    </tr>\n",
       "    <tr>\n",
       "      <th>4</th>\n",
       "      <td>611.5</td>\n",
       "      <td>3996.5</td>\n",
       "      <td>1683.5</td>\n",
       "      <td>2963.5</td>\n",
       "      <td>1644.5</td>\n",
       "      <td>1721.5</td>\n",
       "      <td>2352.0</td>\n",
       "      <td>38.0</td>\n",
       "    </tr>\n",
       "    <tr>\n",
       "      <th>...</th>\n",
       "      <td>...</td>\n",
       "      <td>...</td>\n",
       "      <td>...</td>\n",
       "      <td>...</td>\n",
       "      <td>...</td>\n",
       "      <td>...</td>\n",
       "      <td>...</td>\n",
       "      <td>...</td>\n",
       "    </tr>\n",
       "    <tr>\n",
       "      <th>409</th>\n",
       "      <td>1049.0</td>\n",
       "      <td>3559.0</td>\n",
       "      <td>1782.0</td>\n",
       "      <td>3765.0</td>\n",
       "      <td>843.0</td>\n",
       "      <td>1827.5</td>\n",
       "      <td>2716.0</td>\n",
       "      <td>45.0</td>\n",
       "    </tr>\n",
       "    <tr>\n",
       "      <th>410</th>\n",
       "      <td>964.5</td>\n",
       "      <td>3643.5</td>\n",
       "      <td>1680.0</td>\n",
       "      <td>3705.0</td>\n",
       "      <td>903.0</td>\n",
       "      <td>1728.5</td>\n",
       "      <td>2740.5</td>\n",
       "      <td>48.5</td>\n",
       "    </tr>\n",
       "    <tr>\n",
       "      <th>411</th>\n",
       "      <td>950.5</td>\n",
       "      <td>3657.5</td>\n",
       "      <td>1676.0</td>\n",
       "      <td>3710.0</td>\n",
       "      <td>898.0</td>\n",
       "      <td>1725.0</td>\n",
       "      <td>2759.5</td>\n",
       "      <td>49.0</td>\n",
       "    </tr>\n",
       "    <tr>\n",
       "      <th>412</th>\n",
       "      <td>973.0</td>\n",
       "      <td>3635.0</td>\n",
       "      <td>1638.5</td>\n",
       "      <td>3748.5</td>\n",
       "      <td>859.5</td>\n",
       "      <td>1683.5</td>\n",
       "      <td>2775.5</td>\n",
       "      <td>45.0</td>\n",
       "    </tr>\n",
       "    <tr>\n",
       "      <th>413</th>\n",
       "      <td>903.0</td>\n",
       "      <td>3705.0</td>\n",
       "      <td>1717.5</td>\n",
       "      <td>3694.0</td>\n",
       "      <td>914.0</td>\n",
       "      <td>1767.5</td>\n",
       "      <td>2791.0</td>\n",
       "      <td>50.0</td>\n",
       "    </tr>\n",
       "  </tbody>\n",
       "</table>\n",
       "<p>414 rows × 8 columns</p>\n",
       "</div>"
      ],
      "text/plain": [
       "        AX1     AX2     AY1     BX1     BX2     BY1      PX    PY\n",
       "0     363.5  4244.5  2097.0  2363.0  2245.0  2103.0  1999.5   6.0\n",
       "1     449.0  4159.0  1955.5  2545.5  2062.5  1979.5  2096.5  24.0\n",
       "2     507.5  4100.5  1848.0  2687.5  1920.5  1881.5  2180.0  33.5\n",
       "3     599.0  4009.0  1704.0  2898.0  1710.0  1743.0  2299.0  39.0\n",
       "4     611.5  3996.5  1683.5  2963.5  1644.5  1721.5  2352.0  38.0\n",
       "..      ...     ...     ...     ...     ...     ...     ...   ...\n",
       "409  1049.0  3559.0  1782.0  3765.0   843.0  1827.5  2716.0  45.0\n",
       "410   964.5  3643.5  1680.0  3705.0   903.0  1728.5  2740.5  48.5\n",
       "411   950.5  3657.5  1676.0  3710.0   898.0  1725.0  2759.5  49.0\n",
       "412   973.0  3635.0  1638.5  3748.5   859.5  1683.5  2775.5  45.0\n",
       "413   903.0  3705.0  1717.5  3694.0   914.0  1767.5  2791.0  50.0\n",
       "\n",
       "[414 rows x 8 columns]"
      ]
     },
     "execution_count": 51,
     "metadata": {},
     "output_type": "execute_result"
    }
   ],
   "source": [
    "x"
   ]
  },
  {
   "cell_type": "code",
   "execution_count": 52,
   "id": "449503ed",
   "metadata": {},
   "outputs": [],
   "source": [
    "y_train=y[0:352]"
   ]
  },
  {
   "cell_type": "code",
   "execution_count": 53,
   "id": "4666b70f",
   "metadata": {},
   "outputs": [
    {
     "data": {
      "text/plain": [
       "0       6.2\n",
       "1       7.2\n",
       "2       8.2\n",
       "3      10.2\n",
       "4      11.2\n",
       "       ... \n",
       "347    57.2\n",
       "348    58.2\n",
       "349    59.2\n",
       "350    60.2\n",
       "351    61.2\n",
       "Name: Sonuç, Length: 352, dtype: float64"
      ]
     },
     "execution_count": 53,
     "metadata": {},
     "output_type": "execute_result"
    }
   ],
   "source": [
    "y_train"
   ]
  },
  {
   "cell_type": "code",
   "execution_count": 54,
   "id": "68d13dc3",
   "metadata": {},
   "outputs": [],
   "source": [
    "#x_train, x_test, y_train, y_test = train_test_split(x,y,test_size=0.20,random_state=60)"
   ]
  },
  {
   "cell_type": "code",
   "execution_count": 55,
   "id": "477ec947",
   "metadata": {},
   "outputs": [],
   "source": [
    "y_test=y[352:]"
   ]
  },
  {
   "cell_type": "code",
   "execution_count": 56,
   "id": "ac09db16",
   "metadata": {},
   "outputs": [
    {
     "data": {
      "text/plain": [
       "352     9.2\n",
       "353    16.2\n",
       "354    23.2\n",
       "355    30.2\n",
       "356    37.2\n",
       "       ... \n",
       "409    34.2\n",
       "410    41.2\n",
       "411    48.2\n",
       "412    55.2\n",
       "413    62.2\n",
       "Name: Sonuç, Length: 62, dtype: float64"
      ]
     },
     "execution_count": 56,
     "metadata": {},
     "output_type": "execute_result"
    }
   ],
   "source": [
    "y_test"
   ]
  },
  {
   "cell_type": "code",
   "execution_count": 57,
   "id": "21d81810",
   "metadata": {},
   "outputs": [],
   "source": [
    "x_scaled=x/4343.5"
   ]
  },
  {
   "cell_type": "code",
   "execution_count": 58,
   "id": "7c5b1b87",
   "metadata": {},
   "outputs": [
    {
     "data": {
      "text/html": [
       "<div>\n",
       "<style scoped>\n",
       "    .dataframe tbody tr th:only-of-type {\n",
       "        vertical-align: middle;\n",
       "    }\n",
       "\n",
       "    .dataframe tbody tr th {\n",
       "        vertical-align: top;\n",
       "    }\n",
       "\n",
       "    .dataframe thead th {\n",
       "        text-align: right;\n",
       "    }\n",
       "</style>\n",
       "<table border=\"1\" class=\"dataframe\">\n",
       "  <thead>\n",
       "    <tr style=\"text-align: right;\">\n",
       "      <th></th>\n",
       "      <th>AX1</th>\n",
       "      <th>AX2</th>\n",
       "      <th>AY1</th>\n",
       "      <th>BX1</th>\n",
       "      <th>BX2</th>\n",
       "      <th>BY1</th>\n",
       "      <th>PX</th>\n",
       "      <th>PY</th>\n",
       "    </tr>\n",
       "  </thead>\n",
       "  <tbody>\n",
       "    <tr>\n",
       "      <th>0</th>\n",
       "      <td>0.083688</td>\n",
       "      <td>0.977207</td>\n",
       "      <td>0.482790</td>\n",
       "      <td>0.544031</td>\n",
       "      <td>0.516864</td>\n",
       "      <td>0.484172</td>\n",
       "      <td>0.460343</td>\n",
       "      <td>0.001381</td>\n",
       "    </tr>\n",
       "    <tr>\n",
       "      <th>1</th>\n",
       "      <td>0.103373</td>\n",
       "      <td>0.957523</td>\n",
       "      <td>0.450213</td>\n",
       "      <td>0.586048</td>\n",
       "      <td>0.474847</td>\n",
       "      <td>0.455738</td>\n",
       "      <td>0.482675</td>\n",
       "      <td>0.005525</td>\n",
       "    </tr>\n",
       "    <tr>\n",
       "      <th>2</th>\n",
       "      <td>0.116841</td>\n",
       "      <td>0.944054</td>\n",
       "      <td>0.425463</td>\n",
       "      <td>0.618741</td>\n",
       "      <td>0.442155</td>\n",
       "      <td>0.433176</td>\n",
       "      <td>0.501899</td>\n",
       "      <td>0.007713</td>\n",
       "    </tr>\n",
       "    <tr>\n",
       "      <th>3</th>\n",
       "      <td>0.137907</td>\n",
       "      <td>0.922988</td>\n",
       "      <td>0.392310</td>\n",
       "      <td>0.667204</td>\n",
       "      <td>0.393692</td>\n",
       "      <td>0.401289</td>\n",
       "      <td>0.529297</td>\n",
       "      <td>0.008979</td>\n",
       "    </tr>\n",
       "    <tr>\n",
       "      <th>4</th>\n",
       "      <td>0.140785</td>\n",
       "      <td>0.920111</td>\n",
       "      <td>0.387591</td>\n",
       "      <td>0.682284</td>\n",
       "      <td>0.378612</td>\n",
       "      <td>0.396339</td>\n",
       "      <td>0.541499</td>\n",
       "      <td>0.008749</td>\n",
       "    </tr>\n",
       "  </tbody>\n",
       "</table>\n",
       "</div>"
      ],
      "text/plain": [
       "        AX1       AX2       AY1       BX1       BX2       BY1        PX  \\\n",
       "0  0.083688  0.977207  0.482790  0.544031  0.516864  0.484172  0.460343   \n",
       "1  0.103373  0.957523  0.450213  0.586048  0.474847  0.455738  0.482675   \n",
       "2  0.116841  0.944054  0.425463  0.618741  0.442155  0.433176  0.501899   \n",
       "3  0.137907  0.922988  0.392310  0.667204  0.393692  0.401289  0.529297   \n",
       "4  0.140785  0.920111  0.387591  0.682284  0.378612  0.396339  0.541499   \n",
       "\n",
       "         PY  \n",
       "0  0.001381  \n",
       "1  0.005525  \n",
       "2  0.007713  \n",
       "3  0.008979  \n",
       "4  0.008749  "
      ]
     },
     "execution_count": 58,
     "metadata": {},
     "output_type": "execute_result"
    }
   ],
   "source": [
    "x_scaled[:5]"
   ]
  },
  {
   "cell_type": "code",
   "execution_count": 59,
   "id": "dd1d28f1",
   "metadata": {},
   "outputs": [],
   "source": [
    "y_scaled=(y-3.2)/(62.2-3.2)"
   ]
  },
  {
   "cell_type": "code",
   "execution_count": 60,
   "id": "6dd4a5d7",
   "metadata": {},
   "outputs": [
    {
     "data": {
      "text/plain": [
       "0      0.050847\n",
       "1      0.067797\n",
       "2      0.084746\n",
       "3      0.118644\n",
       "4      0.135593\n",
       "         ...   \n",
       "409    0.525424\n",
       "410    0.644068\n",
       "411    0.762712\n",
       "412    0.881356\n",
       "413    1.000000\n",
       "Name: Sonuç, Length: 414, dtype: float64"
      ]
     },
     "execution_count": 60,
     "metadata": {},
     "output_type": "execute_result"
    }
   ],
   "source": [
    "y_scaled"
   ]
  },
  {
   "cell_type": "code",
   "execution_count": 61,
   "id": "fe1c35a2",
   "metadata": {},
   "outputs": [],
   "source": [
    "x_train_scaled=x_scaled[0:352]"
   ]
  },
  {
   "cell_type": "code",
   "execution_count": 62,
   "id": "ff3eb600",
   "metadata": {
    "scrolled": false
   },
   "outputs": [
    {
     "data": {
      "text/html": [
       "<div>\n",
       "<style scoped>\n",
       "    .dataframe tbody tr th:only-of-type {\n",
       "        vertical-align: middle;\n",
       "    }\n",
       "\n",
       "    .dataframe tbody tr th {\n",
       "        vertical-align: top;\n",
       "    }\n",
       "\n",
       "    .dataframe thead th {\n",
       "        text-align: right;\n",
       "    }\n",
       "</style>\n",
       "<table border=\"1\" class=\"dataframe\">\n",
       "  <thead>\n",
       "    <tr style=\"text-align: right;\">\n",
       "      <th></th>\n",
       "      <th>AX1</th>\n",
       "      <th>AX2</th>\n",
       "      <th>AY1</th>\n",
       "      <th>BX1</th>\n",
       "      <th>BX2</th>\n",
       "      <th>BY1</th>\n",
       "      <th>PX</th>\n",
       "      <th>PY</th>\n",
       "    </tr>\n",
       "  </thead>\n",
       "  <tbody>\n",
       "    <tr>\n",
       "      <th>0</th>\n",
       "      <td>0.083688</td>\n",
       "      <td>0.977207</td>\n",
       "      <td>0.482790</td>\n",
       "      <td>0.544031</td>\n",
       "      <td>0.516864</td>\n",
       "      <td>0.484172</td>\n",
       "      <td>0.460343</td>\n",
       "      <td>0.001381</td>\n",
       "    </tr>\n",
       "    <tr>\n",
       "      <th>1</th>\n",
       "      <td>0.103373</td>\n",
       "      <td>0.957523</td>\n",
       "      <td>0.450213</td>\n",
       "      <td>0.586048</td>\n",
       "      <td>0.474847</td>\n",
       "      <td>0.455738</td>\n",
       "      <td>0.482675</td>\n",
       "      <td>0.005525</td>\n",
       "    </tr>\n",
       "    <tr>\n",
       "      <th>2</th>\n",
       "      <td>0.116841</td>\n",
       "      <td>0.944054</td>\n",
       "      <td>0.425463</td>\n",
       "      <td>0.618741</td>\n",
       "      <td>0.442155</td>\n",
       "      <td>0.433176</td>\n",
       "      <td>0.501899</td>\n",
       "      <td>0.007713</td>\n",
       "    </tr>\n",
       "    <tr>\n",
       "      <th>3</th>\n",
       "      <td>0.137907</td>\n",
       "      <td>0.922988</td>\n",
       "      <td>0.392310</td>\n",
       "      <td>0.667204</td>\n",
       "      <td>0.393692</td>\n",
       "      <td>0.401289</td>\n",
       "      <td>0.529297</td>\n",
       "      <td>0.008979</td>\n",
       "    </tr>\n",
       "    <tr>\n",
       "      <th>4</th>\n",
       "      <td>0.140785</td>\n",
       "      <td>0.920111</td>\n",
       "      <td>0.387591</td>\n",
       "      <td>0.682284</td>\n",
       "      <td>0.378612</td>\n",
       "      <td>0.396339</td>\n",
       "      <td>0.541499</td>\n",
       "      <td>0.008749</td>\n",
       "    </tr>\n",
       "    <tr>\n",
       "      <th>...</th>\n",
       "      <td>...</td>\n",
       "      <td>...</td>\n",
       "      <td>...</td>\n",
       "      <td>...</td>\n",
       "      <td>...</td>\n",
       "      <td>...</td>\n",
       "      <td>...</td>\n",
       "      <td>...</td>\n",
       "    </tr>\n",
       "    <tr>\n",
       "      <th>347</th>\n",
       "      <td>0.217106</td>\n",
       "      <td>0.843790</td>\n",
       "      <td>0.380684</td>\n",
       "      <td>0.857028</td>\n",
       "      <td>0.203868</td>\n",
       "      <td>0.391965</td>\n",
       "      <td>0.639922</td>\n",
       "      <td>0.011281</td>\n",
       "    </tr>\n",
       "    <tr>\n",
       "      <th>348</th>\n",
       "      <td>0.211350</td>\n",
       "      <td>0.849545</td>\n",
       "      <td>0.385864</td>\n",
       "      <td>0.851157</td>\n",
       "      <td>0.209739</td>\n",
       "      <td>0.397836</td>\n",
       "      <td>0.639807</td>\n",
       "      <td>0.011972</td>\n",
       "    </tr>\n",
       "    <tr>\n",
       "      <th>349</th>\n",
       "      <td>0.225394</td>\n",
       "      <td>0.835501</td>\n",
       "      <td>0.394267</td>\n",
       "      <td>0.866582</td>\n",
       "      <td>0.194313</td>\n",
       "      <td>0.402556</td>\n",
       "      <td>0.641188</td>\n",
       "      <td>0.008288</td>\n",
       "    </tr>\n",
       "    <tr>\n",
       "      <th>350</th>\n",
       "      <td>0.226891</td>\n",
       "      <td>0.834005</td>\n",
       "      <td>0.383331</td>\n",
       "      <td>0.867849</td>\n",
       "      <td>0.193047</td>\n",
       "      <td>0.393577</td>\n",
       "      <td>0.640958</td>\n",
       "      <td>0.010245</td>\n",
       "    </tr>\n",
       "    <tr>\n",
       "      <th>351</th>\n",
       "      <td>0.216415</td>\n",
       "      <td>0.844480</td>\n",
       "      <td>0.371820</td>\n",
       "      <td>0.857603</td>\n",
       "      <td>0.203292</td>\n",
       "      <td>0.382641</td>\n",
       "      <td>0.641188</td>\n",
       "      <td>0.010821</td>\n",
       "    </tr>\n",
       "  </tbody>\n",
       "</table>\n",
       "<p>352 rows × 8 columns</p>\n",
       "</div>"
      ],
      "text/plain": [
       "          AX1       AX2       AY1       BX1       BX2       BY1        PX  \\\n",
       "0    0.083688  0.977207  0.482790  0.544031  0.516864  0.484172  0.460343   \n",
       "1    0.103373  0.957523  0.450213  0.586048  0.474847  0.455738  0.482675   \n",
       "2    0.116841  0.944054  0.425463  0.618741  0.442155  0.433176  0.501899   \n",
       "3    0.137907  0.922988  0.392310  0.667204  0.393692  0.401289  0.529297   \n",
       "4    0.140785  0.920111  0.387591  0.682284  0.378612  0.396339  0.541499   \n",
       "..        ...       ...       ...       ...       ...       ...       ...   \n",
       "347  0.217106  0.843790  0.380684  0.857028  0.203868  0.391965  0.639922   \n",
       "348  0.211350  0.849545  0.385864  0.851157  0.209739  0.397836  0.639807   \n",
       "349  0.225394  0.835501  0.394267  0.866582  0.194313  0.402556  0.641188   \n",
       "350  0.226891  0.834005  0.383331  0.867849  0.193047  0.393577  0.640958   \n",
       "351  0.216415  0.844480  0.371820  0.857603  0.203292  0.382641  0.641188   \n",
       "\n",
       "           PY  \n",
       "0    0.001381  \n",
       "1    0.005525  \n",
       "2    0.007713  \n",
       "3    0.008979  \n",
       "4    0.008749  \n",
       "..        ...  \n",
       "347  0.011281  \n",
       "348  0.011972  \n",
       "349  0.008288  \n",
       "350  0.010245  \n",
       "351  0.010821  \n",
       "\n",
       "[352 rows x 8 columns]"
      ]
     },
     "execution_count": 62,
     "metadata": {},
     "output_type": "execute_result"
    }
   ],
   "source": [
    "x_train_scaled"
   ]
  },
  {
   "cell_type": "code",
   "execution_count": 63,
   "id": "cd38421f",
   "metadata": {},
   "outputs": [],
   "source": [
    "x_test_scaled=x_scaled[352:]"
   ]
  },
  {
   "cell_type": "code",
   "execution_count": 64,
   "id": "117364dc",
   "metadata": {},
   "outputs": [
    {
     "data": {
      "text/html": [
       "<div>\n",
       "<style scoped>\n",
       "    .dataframe tbody tr th:only-of-type {\n",
       "        vertical-align: middle;\n",
       "    }\n",
       "\n",
       "    .dataframe tbody tr th {\n",
       "        vertical-align: top;\n",
       "    }\n",
       "\n",
       "    .dataframe thead th {\n",
       "        text-align: right;\n",
       "    }\n",
       "</style>\n",
       "<table border=\"1\" class=\"dataframe\">\n",
       "  <thead>\n",
       "    <tr style=\"text-align: right;\">\n",
       "      <th></th>\n",
       "      <th>AX1</th>\n",
       "      <th>AX2</th>\n",
       "      <th>AY1</th>\n",
       "      <th>BX1</th>\n",
       "      <th>BX2</th>\n",
       "      <th>BY1</th>\n",
       "      <th>PX</th>\n",
       "      <th>PY</th>\n",
       "    </tr>\n",
       "  </thead>\n",
       "  <tbody>\n",
       "    <tr>\n",
       "      <th>352</th>\n",
       "      <td>0.131115</td>\n",
       "      <td>0.929780</td>\n",
       "      <td>0.406469</td>\n",
       "      <td>0.647750</td>\n",
       "      <td>0.413146</td>\n",
       "      <td>0.414988</td>\n",
       "      <td>0.516634</td>\n",
       "      <td>0.008518</td>\n",
       "    </tr>\n",
       "    <tr>\n",
       "      <th>353</th>\n",
       "      <td>0.168873</td>\n",
       "      <td>0.892023</td>\n",
       "      <td>0.343156</td>\n",
       "      <td>0.748245</td>\n",
       "      <td>0.312651</td>\n",
       "      <td>0.347876</td>\n",
       "      <td>0.579371</td>\n",
       "      <td>0.004720</td>\n",
       "    </tr>\n",
       "    <tr>\n",
       "      <th>354</th>\n",
       "      <td>0.185565</td>\n",
       "      <td>0.875331</td>\n",
       "      <td>0.323587</td>\n",
       "      <td>0.788074</td>\n",
       "      <td>0.272821</td>\n",
       "      <td>0.330148</td>\n",
       "      <td>0.602509</td>\n",
       "      <td>0.006562</td>\n",
       "    </tr>\n",
       "    <tr>\n",
       "      <th>355</th>\n",
       "      <td>0.198457</td>\n",
       "      <td>0.862438</td>\n",
       "      <td>0.309198</td>\n",
       "      <td>0.815702</td>\n",
       "      <td>0.245194</td>\n",
       "      <td>0.313572</td>\n",
       "      <td>0.617244</td>\n",
       "      <td>0.004374</td>\n",
       "    </tr>\n",
       "    <tr>\n",
       "      <th>356</th>\n",
       "      <td>0.199493</td>\n",
       "      <td>0.861402</td>\n",
       "      <td>0.301830</td>\n",
       "      <td>0.827213</td>\n",
       "      <td>0.233683</td>\n",
       "      <td>0.305859</td>\n",
       "      <td>0.627720</td>\n",
       "      <td>0.004029</td>\n",
       "    </tr>\n",
       "    <tr>\n",
       "      <th>...</th>\n",
       "      <td>...</td>\n",
       "      <td>...</td>\n",
       "      <td>...</td>\n",
       "      <td>...</td>\n",
       "      <td>...</td>\n",
       "      <td>...</td>\n",
       "      <td>...</td>\n",
       "      <td>...</td>\n",
       "    </tr>\n",
       "    <tr>\n",
       "      <th>409</th>\n",
       "      <td>0.241510</td>\n",
       "      <td>0.819385</td>\n",
       "      <td>0.410268</td>\n",
       "      <td>0.866812</td>\n",
       "      <td>0.194083</td>\n",
       "      <td>0.420744</td>\n",
       "      <td>0.625302</td>\n",
       "      <td>0.010360</td>\n",
       "    </tr>\n",
       "    <tr>\n",
       "      <th>410</th>\n",
       "      <td>0.222056</td>\n",
       "      <td>0.838840</td>\n",
       "      <td>0.386785</td>\n",
       "      <td>0.852999</td>\n",
       "      <td>0.207897</td>\n",
       "      <td>0.397951</td>\n",
       "      <td>0.630943</td>\n",
       "      <td>0.011166</td>\n",
       "    </tr>\n",
       "    <tr>\n",
       "      <th>411</th>\n",
       "      <td>0.218833</td>\n",
       "      <td>0.842063</td>\n",
       "      <td>0.385864</td>\n",
       "      <td>0.854150</td>\n",
       "      <td>0.206746</td>\n",
       "      <td>0.397145</td>\n",
       "      <td>0.635317</td>\n",
       "      <td>0.011281</td>\n",
       "    </tr>\n",
       "    <tr>\n",
       "      <th>412</th>\n",
       "      <td>0.224013</td>\n",
       "      <td>0.836883</td>\n",
       "      <td>0.377230</td>\n",
       "      <td>0.863014</td>\n",
       "      <td>0.197882</td>\n",
       "      <td>0.387591</td>\n",
       "      <td>0.639001</td>\n",
       "      <td>0.010360</td>\n",
       "    </tr>\n",
       "    <tr>\n",
       "      <th>413</th>\n",
       "      <td>0.207897</td>\n",
       "      <td>0.852999</td>\n",
       "      <td>0.395418</td>\n",
       "      <td>0.850466</td>\n",
       "      <td>0.210429</td>\n",
       "      <td>0.406930</td>\n",
       "      <td>0.642569</td>\n",
       "      <td>0.011511</td>\n",
       "    </tr>\n",
       "  </tbody>\n",
       "</table>\n",
       "<p>62 rows × 8 columns</p>\n",
       "</div>"
      ],
      "text/plain": [
       "          AX1       AX2       AY1       BX1       BX2       BY1        PX  \\\n",
       "352  0.131115  0.929780  0.406469  0.647750  0.413146  0.414988  0.516634   \n",
       "353  0.168873  0.892023  0.343156  0.748245  0.312651  0.347876  0.579371   \n",
       "354  0.185565  0.875331  0.323587  0.788074  0.272821  0.330148  0.602509   \n",
       "355  0.198457  0.862438  0.309198  0.815702  0.245194  0.313572  0.617244   \n",
       "356  0.199493  0.861402  0.301830  0.827213  0.233683  0.305859  0.627720   \n",
       "..        ...       ...       ...       ...       ...       ...       ...   \n",
       "409  0.241510  0.819385  0.410268  0.866812  0.194083  0.420744  0.625302   \n",
       "410  0.222056  0.838840  0.386785  0.852999  0.207897  0.397951  0.630943   \n",
       "411  0.218833  0.842063  0.385864  0.854150  0.206746  0.397145  0.635317   \n",
       "412  0.224013  0.836883  0.377230  0.863014  0.197882  0.387591  0.639001   \n",
       "413  0.207897  0.852999  0.395418  0.850466  0.210429  0.406930  0.642569   \n",
       "\n",
       "           PY  \n",
       "352  0.008518  \n",
       "353  0.004720  \n",
       "354  0.006562  \n",
       "355  0.004374  \n",
       "356  0.004029  \n",
       "..        ...  \n",
       "409  0.010360  \n",
       "410  0.011166  \n",
       "411  0.011281  \n",
       "412  0.010360  \n",
       "413  0.011511  \n",
       "\n",
       "[62 rows x 8 columns]"
      ]
     },
     "execution_count": 64,
     "metadata": {},
     "output_type": "execute_result"
    }
   ],
   "source": [
    "x_test_scaled"
   ]
  },
  {
   "cell_type": "code",
   "execution_count": 65,
   "id": "484f8de1",
   "metadata": {},
   "outputs": [],
   "source": [
    "#y_train_scaled=y_scaled[0:352]"
   ]
  },
  {
   "cell_type": "code",
   "execution_count": 66,
   "id": "f6437049",
   "metadata": {},
   "outputs": [],
   "source": [
    "#y_train_scaled"
   ]
  },
  {
   "cell_type": "code",
   "execution_count": 67,
   "id": "7a366786",
   "metadata": {},
   "outputs": [],
   "source": [
    "#y_test_scaled=y_scaled[352:]"
   ]
  },
  {
   "cell_type": "code",
   "execution_count": 68,
   "id": "89bd8d71",
   "metadata": {},
   "outputs": [],
   "source": [
    "#y_test_scaled"
   ]
  },
  {
   "cell_type": "code",
   "execution_count": 69,
   "id": "0142725e",
   "metadata": {},
   "outputs": [],
   "source": [
    "#RandomForestRegressor?"
   ]
  },
  {
   "cell_type": "code",
   "execution_count": 70,
   "id": "2141d81f",
   "metadata": {},
   "outputs": [],
   "source": [
    "rf_model = RandomForestRegressor()"
   ]
  },
  {
   "cell_type": "code",
   "execution_count": 71,
   "id": "7a2095f4",
   "metadata": {},
   "outputs": [],
   "source": [
    "#regr.fit(x_train_scaled, y_train)"
   ]
  },
  {
   "cell_type": "code",
   "execution_count": 72,
   "id": "a14ed511",
   "metadata": {},
   "outputs": [],
   "source": [
    "#y_pred=regr.predict(x_test_scaled)"
   ]
  },
  {
   "cell_type": "code",
   "execution_count": 73,
   "id": "f292235f",
   "metadata": {},
   "outputs": [],
   "source": [
    "cart_params={\"n_estimators\":[75,100,125],\"max_features\":[1,5,10],\"max_depth\":[5,10],\"random_state\":[5,10,50]}\n",
    "cart_cv_model=GridSearchCV(rf_model,cart_params,cv=10)"
   ]
  },
  {
   "cell_type": "code",
   "execution_count": 74,
   "id": "a523994c",
   "metadata": {},
   "outputs": [
    {
     "data": {
      "text/plain": [
       "GridSearchCV(cv=10, estimator=RandomForestRegressor(),\n",
       "             param_grid={'max_depth': [5, 10], 'max_features': [1, 5, 10],\n",
       "                         'n_estimators': [75, 100, 125],\n",
       "                         'random_state': [5, 10, 50]})"
      ]
     },
     "execution_count": 74,
     "metadata": {},
     "output_type": "execute_result"
    }
   ],
   "source": [
    "cart_cv_model.fit(x_train_scaled,y_train)"
   ]
  },
  {
   "cell_type": "code",
   "execution_count": 75,
   "id": "a30af8ec",
   "metadata": {},
   "outputs": [
    {
     "data": {
      "text/plain": [
       "{'max_depth': 10, 'max_features': 5, 'n_estimators': 75, 'random_state': 50}"
      ]
     },
     "execution_count": 75,
     "metadata": {},
     "output_type": "execute_result"
    }
   ],
   "source": [
    "cart_cv_model.best_params_"
   ]
  },
  {
   "cell_type": "code",
   "execution_count": 76,
   "id": "9c3c12b9",
   "metadata": {},
   "outputs": [],
   "source": [
    "y_pred=cart_cv_model.predict(x_test_scaled)"
   ]
  },
  {
   "cell_type": "code",
   "execution_count": 77,
   "id": "d6948054",
   "metadata": {},
   "outputs": [],
   "source": [
    "mape_deger=mean_absolute_percentage_error(y_test,y_pred)"
   ]
  },
  {
   "cell_type": "code",
   "execution_count": 78,
   "id": "d88d3560",
   "metadata": {},
   "outputs": [
    {
     "data": {
      "text/plain": [
       "3.565268112833555"
      ]
     },
     "execution_count": 78,
     "metadata": {},
     "output_type": "execute_result"
    }
   ],
   "source": [
    "mape_deger*100"
   ]
  },
  {
   "cell_type": "code",
   "execution_count": 79,
   "id": "4a51e840",
   "metadata": {},
   "outputs": [
    {
     "data": {
      "image/png": "[encoded data removed]",
      "text/plain": [
       "<Figure size 432x432 with 3 Axes>"
      ]
     },
     "metadata": {
      "needs_background": "light"
     },
     "output_type": "display_data"
    }
   ],
   "source": [
    "plt.style.use(\"seaborn-bright\")\n",
    "sns.jointplot(y_test, y_pred, kind=\"reg\")\n",
    "plt.show()"
   ]
  }
 ],
 "metadata": {
  "kernelspec": {
   "display_name": "Python 3 (ipykernel)",
   "language": "python",
   "name": "python3"
  },
  "language_info": {
   "codemirror_mode": {
    "name": "ipython",
    "version": 3
   },
   "file_extension": ".py",
   "mimetype": "text/x-python",
   "name": "python",
   "nbconvert_exporter": "python",
   "pygments_lexer": "ipython3",
   "version": "3.9.7"
  }
 },
 "nbformat": 4,
 "nbformat_minor": 5
}
